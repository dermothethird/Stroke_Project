{
 "cells": [
  {
   "cell_type": "markdown",
   "metadata": {},
   "source": [
    "# Stroke Diagnostic Modeling\n",
    "\n",
    "**Authors:** Anita Camlic, Eddie Juarez, Dermot O'Brien\n",
    "***"
   ]
  },
  {
   "cell_type": "markdown",
   "metadata": {},
   "source": [
    "## Overview\n",
    "\n",
    "According to the World Health Organization (WHO) stroke is the 2nd leading cause of death globally, responsible for approximately 11% of total deaths.\n",
    "This dataset is used to predict whether a patient is likely to get stroke based on the input parameters like gender, age, various diseases, and smoking status. Each row in the data provides relavant information about the patient."
   ]
  },
  {
   "cell_type": "markdown",
   "metadata": {},
   "source": [
    "## Business Problem\n",
    "\n",
    "Hospitals are constantly looking for new ways to detect health risks in their patients before they occur. We have been asked by Mount Sinai to create a model that can predict the likelihood of a stroke in their patients with the use of patient data. The model will flag patients who are at risk of a stroke, giving their general practitionars the opporutnity to work with them on health plans to prevent them from occuring. The model will act as a preliminary diagnosic tool available for all doctors, allowing them to better serve their patients. We will also highlgiht the features of the model that best predict ..."
   ]
  },
  {
   "cell_type": "markdown",
   "metadata": {},
   "source": [
    "## Data Overview"
   ]
  },
  {
   "cell_type": "markdown",
   "metadata": {},
   "source": [
    "### Data Dictionary\n",
    "\n",
    "- `id`: unique identifier\n",
    "- `gender`: \"Male\", \"Female\" or \"Other\"\n",
    "- `sex`: Sex\n",
    "- `age`: age of the patient\n",
    "- `hypertension`: 0 if the patient doesn't have hypertension, 1 if the patient has hypertension\n",
    "- `heart_disease`: 0 if the patient doesn't have any heart diseases, 1 if the patient has a heart disease\n",
    "- `ever_married`: \"No\" or \"Yes\"\n",
    "- `work_type`: children\", \"Govt_job\", \"Never_worked\", \"Private\" or \"Self-employed\"\n",
    "- ` Residence_type`: \"Rural\" or \"Urban\"\n",
    "- `avg_glucose_level`: average glucose level in blood\n",
    "- `bmi`: body mass index\n",
    "- `smoking_status`: \"formerly smoked\", \"never smoked\", \"smokes\" or \"Unknown\"\n",
    "- `stroke`: 1 if the patient had a stroke or 0 if not\n",
    "\n",
    "**Note:** \"Unknown\" in smoking_status means that the information is unavailable for this patient"
   ]
  },
  {
   "cell_type": "markdown",
   "metadata": {},
   "source": [
    "## Data Understanding\n",
    "\n",
    "In this section, we are going to explore the dataset with summary statistics and then take a deeper dive into the variables with some visualizations\n",
    "***\n",
    "Questions to consider:\n",
    "* Where did the data come from, and how do they relate to the data analysis questions?\n",
    "* What do the data represent? Who is in the sample and what variables are included?\n",
    "* What is the target variable?\n",
    "* What are the properties of the variables you intend to use?\n",
    "***"
   ]
  },
  {
   "cell_type": "markdown",
   "metadata": {},
   "source": [
    "### Import Data and Create Dataframes"
   ]
  },
  {
   "cell_type": "code",
   "execution_count": 1,
   "metadata": {},
   "outputs": [],
   "source": [
    "# Import Standard Packages\n",
    "import pandas as pd\n",
    "import numpy as np\n",
    "from matplotlib import pyplot as plt\n",
    "import seaborn as sns\n",
    "\n",
    "from sklearn.model_selection import train_test_split, GridSearchCV, cross_val_score\n",
    "from sklearn.pipeline import Pipeline\n",
    "from sklearn.preprocessing import StandardScaler, OneHotEncoder, FunctionTransformer\n",
    "from sklearn.impute import SimpleImputer\n",
    "from sklearn.compose import ColumnTransformer\n",
    "from sklearn.linear_model import LogisticRegression\n",
    "from sklearn.ensemble import RandomForestClassifier, GradientBoostingClassifier\n",
    "from sklearn.metrics import plot_confusion_matrix, recall_score as rere, accuracy_score, precision_score, f1_score\n",
    "from sklearn.dummy import DummyClassifier\n",
    "from sklearn.tree import DecisionTreeClassifier\n",
    "from sklearn.neighbors import KNeighborsClassifier\n",
    "from sklearn.ensemble import GradientBoostingClassifier\n",
    "from sklearn.impute import MissingIndicator\n",
    "from sklearn.impute import KNNImputer\n",
    "import xgboost as xgb\n",
    "\n",
    "\n",
    "from imblearn.over_sampling import SMOTE\n",
    "from imblearn.pipeline import Pipeline as ImPipeline\n",
    "%matplotlib inline"
   ]
  },
  {
   "cell_type": "code",
   "execution_count": 2,
   "metadata": {},
   "outputs": [],
   "source": [
    "# Import the data\n",
    "df = pd.read_csv('./Data/stroke.csv')"
   ]
  },
  {
   "cell_type": "markdown",
   "metadata": {},
   "source": [
    "### Exploratory Data Analysis"
   ]
  },
  {
   "cell_type": "code",
   "execution_count": null,
   "metadata": {},
   "outputs": [],
   "source": [
    "# Check rows and columns\n",
    "df.shape"
   ]
  },
  {
   "cell_type": "code",
   "execution_count": null,
   "metadata": {},
   "outputs": [],
   "source": [
    "# See what the data looks like\n",
    "df.head()"
   ]
  },
  {
   "cell_type": "code",
   "execution_count": null,
   "metadata": {
    "scrolled": true
   },
   "outputs": [],
   "source": [
    "# Check descriptive statistics\n",
    "df.describe()"
   ]
  },
  {
   "cell_type": "code",
   "execution_count": null,
   "metadata": {
    "scrolled": false
   },
   "outputs": [],
   "source": [
    "# Check BMI data\n",
    "df.bmi.sort_values(ascending=False).head(30)"
   ]
  },
  {
   "cell_type": "markdown",
   "metadata": {},
   "source": [
    "**Drop BMI's above 90**"
   ]
  },
  {
   "cell_type": "code",
   "execution_count": null,
   "metadata": {},
   "outputs": [],
   "source": [
    "# Check for NaN's\n",
    "df.isna().sum()"
   ]
  },
  {
   "cell_type": "code",
   "execution_count": null,
   "metadata": {
    "scrolled": false
   },
   "outputs": [],
   "source": [
    "# Check the value counts of the stroke column\n",
    "df.stroke.value_counts()"
   ]
  },
  {
   "cell_type": "code",
   "execution_count": null,
   "metadata": {},
   "outputs": [],
   "source": [
    "# Check the percentage distribution of the stroke column\n",
    "df.stroke.value_counts(normalize=True)"
   ]
  },
  {
   "cell_type": "code",
   "execution_count": null,
   "metadata": {},
   "outputs": [],
   "source": [
    "# Check gender value counts\n",
    "df.gender.value_counts()"
   ]
  },
  {
   "cell_type": "code",
   "execution_count": null,
   "metadata": {},
   "outputs": [],
   "source": [
    "# Check the stroke rates of males and females\n",
    "df[['gender', 'stroke']].groupby('gender', as_index=False).mean().sort_values(by='stroke', ascending=False)"
   ]
  },
  {
   "cell_type": "code",
   "execution_count": null,
   "metadata": {
    "scrolled": true
   },
   "outputs": [],
   "source": [
    "# Create a barplot showing the Stroke Probabilities of males and females\n",
    "fig, ax = plt.subplots(figsize=(8,6))\n",
    "sns.barplot(x='gender', y='stroke', data=df)\n",
    "ax.set_ylabel('Stroke Probability')\n",
    "ax.set_title('Stroke Probability by Gender');"
   ]
  },
  {
   "cell_type": "markdown",
   "metadata": {},
   "source": [
    "**Drop row with gender = 'other'**"
   ]
  },
  {
   "cell_type": "code",
   "execution_count": null,
   "metadata": {
    "scrolled": true
   },
   "outputs": [],
   "source": [
    "# Check age column\n",
    "df.age.sort_values().head(50)"
   ]
  },
  {
   "cell_type": "code",
   "execution_count": null,
   "metadata": {
    "scrolled": true
   },
   "outputs": [],
   "source": [
    "# Check age for stroke victims\n",
    "df.loc[df['stroke'] == True]['age'].sort_values()"
   ]
  },
  {
   "cell_type": "code",
   "execution_count": null,
   "metadata": {},
   "outputs": [],
   "source": [
    "# Check BMI Nulls\n",
    "df.bmi.isna().sum()"
   ]
  },
  {
   "cell_type": "code",
   "execution_count": null,
   "metadata": {
    "scrolled": true
   },
   "outputs": [],
   "source": [
    "# Check BMI\n",
    "df.loc[df['bmi'].isnull()]['stroke'].value_counts(normalize=True) "
   ]
  },
  {
   "cell_type": "code",
   "execution_count": 56,
   "metadata": {
    "scrolled": false
   },
   "outputs": [
    {
     "data": {
      "image/png": "[encoded data removed]",
      "text/plain": [
       "<Figure size 720x576 with 1 Axes>"
      ]
     },
     "metadata": {
      "needs_background": "light"
     },
     "output_type": "display_data"
    }
   ],
   "source": [
    "# Create a KDE Plot that shows the survival of passengers according to their age\n",
    "sns.kdeplot(df['age'][df['stroke'] == 0], label='No Stroke')\n",
    "sns.kdeplot(df['age'][df['stroke'] == 1], label='Stroke')\n",
    "plt.rcParams[\"figure.figsize\"] = (10,8)\n",
    "plt.xlabel('Age')\n",
    "plt.title('Stroke by Age Distribution')\n",
    "plt.legend();"
   ]
  },
  {
   "cell_type": "code",
   "execution_count": 55,
   "metadata": {
    "scrolled": true
   },
   "outputs": [
    {
     "data": {
      "image/png": "[encoded data removed]",
      "text/plain": [
       "<Figure size 432x288 with 1 Axes>"
      ]
     },
     "metadata": {
      "needs_background": "light"
     },
     "output_type": "display_data"
    }
   ],
   "source": [
    "# Create a KDE Plot that shows the survival of passengers according to their age\n",
    "sns.kdeplot(df['age'][df['stroke'] == 0][df['bmi'].isnull()], label='No Stroke')\n",
    "sns.kdeplot(df['age'][df['stroke'] == 1][df['bmi'].isnull()], label='Stroke')\n",
    "plt.rcParams[\"figure.figsize\"] = (10,8)\n",
    "plt.xlabel('Age')\n",
    "plt.title('Stroke by Age Distribution')\n",
    "plt.legend();"
   ]
  },
  {
   "cell_type": "code",
   "execution_count": null,
   "metadata": {},
   "outputs": [],
   "source": [
    "df['hypertension'].value_counts(normalize=True)"
   ]
  },
  {
   "cell_type": "code",
   "execution_count": null,
   "metadata": {
    "scrolled": false
   },
   "outputs": [],
   "source": [
    "# Check Null BMI vs Hypertension\n",
    "df.loc[df['bmi'].isnull()]['hypertension'].value_counts(normalize=True)"
   ]
  },
  {
   "cell_type": "code",
   "execution_count": null,
   "metadata": {},
   "outputs": [],
   "source": [
    "df['heart_disease'].value_counts(normalize=True)"
   ]
  },
  {
   "cell_type": "code",
   "execution_count": null,
   "metadata": {
    "scrolled": false
   },
   "outputs": [],
   "source": [
    "# Check Null BMI vs Hypertension\n",
    "df.loc[df['bmi'].isnull()]['heart_disease'].value_counts(normalize=True)"
   ]
  },
  {
   "cell_type": "code",
   "execution_count": null,
   "metadata": {},
   "outputs": [],
   "source": [
    "# Check Null BMI vs glucose level\n",
    "df.loc[df['bmi'].isnull()]['avg_glucose_level'].value_counts(normalize=True)"
   ]
  },
  {
   "cell_type": "markdown",
   "metadata": {},
   "source": [
    "## Data Preparation\n",
    "\n",
    "Describe and justify the process for preparing the data for analysis.\n",
    "\n",
    "***\n",
    "Questions to consider:\n",
    "* Were there variables you dropped or created?\n",
    "* How did you address missing values or outliers?\n",
    "* Why are these choices appropriate given the data and the business problem?\n",
    "***"
   ]
  },
  {
   "cell_type": "code",
   "execution_count": 3,
   "metadata": {},
   "outputs": [],
   "source": [
    "# Drop row with gender = 'other'\n",
    "df = df[df.gender != 'Other']"
   ]
  },
  {
   "cell_type": "code",
   "execution_count": 4,
   "metadata": {
    "scrolled": true
   },
   "outputs": [],
   "source": [
    "# Drop ID column\n",
    "df.drop(labels='id', axis=1, inplace=True)"
   ]
  },
  {
   "cell_type": "code",
   "execution_count": 5,
   "metadata": {},
   "outputs": [],
   "source": [
    "# putting all children work type into never worked\n",
    "df['work_type'] = df['work_type'].replace(['children'], 'Never_worked')"
   ]
  },
  {
   "cell_type": "code",
   "execution_count": 6,
   "metadata": {},
   "outputs": [],
   "source": [
    "# df['work_type'].value_counts()"
   ]
  },
  {
   "cell_type": "code",
   "execution_count": 7,
   "metadata": {},
   "outputs": [],
   "source": [
    "# If observation is under teenage age and smoking status unknown, change smoking status to never smoked\n",
    "df.loc[((df['smoking_status'] == 'Unknown') & (df['age'] <= 12)),'smoking_status'] = 'never smoked'"
   ]
  },
  {
   "cell_type": "code",
   "execution_count": 8,
   "metadata": {},
   "outputs": [],
   "source": [
    "# df['smoking_status'].value_counts()"
   ]
  },
  {
   "cell_type": "code",
   "execution_count": 9,
   "metadata": {},
   "outputs": [],
   "source": [
    "# dropping all observations with bmi greater than 54 because the NIH table limit is 54\n",
    "df = df.loc[((df['bmi'] <= 54) | (df['bmi'].isna()))]"
   ]
  },
  {
   "cell_type": "code",
   "execution_count": null,
   "metadata": {},
   "outputs": [],
   "source": [
    "# sanity check\n",
    "#df['bmi'].sort_values(ascending=False)"
   ]
  },
  {
   "cell_type": "markdown",
   "metadata": {},
   "source": [
    "## Data Modeling\n",
    "Describe and justify the process for analyzing or modeling the data.\n",
    "\n",
    "***\n",
    "Questions to consider:\n",
    "* How did you analyze or model the data?\n",
    "* How did you iterate on your initial approach to make it better?\n",
    "* Why are these choices appropriate given the data and the business problem?\n",
    "***"
   ]
  },
  {
   "cell_type": "markdown",
   "metadata": {},
   "source": [
    "### Class Setup for Model Evaluation"
   ]
  },
  {
   "cell_type": "code",
   "execution_count": 10,
   "metadata": {},
   "outputs": [],
   "source": [
    "# Create a Class to evaluate each model with cross validation\n",
    "\n",
    "class ModelWithCV():\n",
    "    '''Structure to save the model and more easily see its crossvalidation'''\n",
    "    \n",
    "    def __init__(self, model, model_name, X, y, cv_now=True):\n",
    "        self.model = model\n",
    "        self.name = model_name\n",
    "        self.X = X\n",
    "        self.y = y\n",
    "        # For CV results\n",
    "        self.cv_accuracy = None\n",
    "        self.cv_precision = None\n",
    "        self.cv_recall = None\n",
    "\n",
    "        # wut\n",
    "        if cv_now:\n",
    "            self.cross_validate()\n",
    "        \n",
    "    def cross_validate(self, X=None, y=None, kfolds=5):\n",
    "        '''\n",
    "        Perform cross-validation and return results.\n",
    "        \n",
    "        Args: \n",
    "          X:\n",
    "            Optional; Training data to perform CV on. Otherwise use X from object\n",
    "          y:\n",
    "            Optional; Training data to perform CV on. Otherwise use y from object\n",
    "          kfolds:\n",
    "            Optional; Number of folds for CV (default is 10)  \n",
    "        '''\n",
    "        \n",
    "        cv_X = X if X else self.X\n",
    "        cv_y = y if y else self.y\n",
    "\n",
    "        self.cv_accuracy = cross_val_score(self.model, cv_X, cv_y, cv=kfolds).mean()\n",
    "        self.cv_recall = cross_val_score(self.model, cv_X, cv_y, cv=kfolds, scoring='recall').mean()\n",
    "        self.cv_precision = cross_val_score(self.model, cv_X, cv_y, cv=kfolds, scoring='precision').mean()\n",
    "\n",
    "        \n",
    "    def print_cv_summary(self):\n",
    "        cv_summary = (\n",
    "        f'''CV Results for `{self.name}` model:\n",
    "            {self.cv_accuracy: .5f} accuracy\n",
    "            {self.cv_recall: .5f} recall\n",
    "            {self.cv_precision: .5f} precision\n",
    "        ''')\n",
    "        print(cv_summary)\n",
    "\n",
    "        \n",
    "    def plot_cv(self, ax):\n",
    "        '''\n",
    "        Plot the cross-validation values using the array of results and given \n",
    "        Axis for plotting.\n",
    "        '''\n",
    "        ax.set_title(f'CV Results for `{self.name}` Model')\n",
    "        # Thinner violinplot with higher bw\n",
    "        sns.violinplot(y=self.cv_results, ax=ax, bw=.4)\n",
    "        sns.swarmplot(\n",
    "                y=self.cv_results,\n",
    "                color='orange',\n",
    "                size=10,\n",
    "                alpha= 0.8,\n",
    "                ax=ax\n",
    "        )\n",
    "\n",
    "        return ax"
   ]
  },
  {
   "cell_type": "markdown",
   "metadata": {},
   "source": [
    "### Dummy Model"
   ]
  },
  {
   "cell_type": "code",
   "execution_count": 11,
   "metadata": {},
   "outputs": [],
   "source": [
    "# Create variables and split data into training and testing\n",
    "X = df.drop('stroke', axis=1)\n",
    "y = df['stroke']\n",
    "\n",
    "X_train, X_test, y_train, y_test = train_test_split(X, y)"
   ]
  },
  {
   "cell_type": "code",
   "execution_count": null,
   "metadata": {},
   "outputs": [],
   "source": [
    "# Dummy Model\n",
    "dummy_model = DummyClassifier(strategy='most_frequent')\n",
    "dummy_model.fit(X_train, y_train)"
   ]
  },
  {
   "cell_type": "code",
   "execution_count": null,
   "metadata": {},
   "outputs": [],
   "source": [
    "# Plot a confusion matrix for our dummy model\n",
    "plot_confusion_matrix(dummy_model, X_train, y_train);"
   ]
  },
  {
   "cell_type": "code",
   "execution_count": null,
   "metadata": {
    "scrolled": true
   },
   "outputs": [],
   "source": [
    "# Evaluate model with CV\n",
    "dummy_results = ModelWithCV(model=dummy_model,\n",
    "                         model_name='dummy_results',\n",
    "                         X=X_train,\n",
    "                         y=y_train)\n",
    "\n",
    "dummy_results.print_cv_summary()"
   ]
  },
  {
   "cell_type": "markdown",
   "metadata": {},
   "source": [
    "### Pipeline Setup"
   ]
  },
  {
   "cell_type": "code",
   "execution_count": 12,
   "metadata": {},
   "outputs": [],
   "source": [
    "# Create pipelines for missing indicator, numeric and categorical to fit into Categorical Transformer.\n",
    "knn_imp_pipeline = Pipeline(steps=[('knn_imp', KNNImputer(add_indicator=True))])\n",
    "num_pipeline = Pipeline(steps=[ ('ss', StandardScaler())])\n",
    "cat_pipeline = Pipeline(steps=[('ohe', OneHotEncoder(sparse=False, handle_unknown='ignore'))])"
   ]
  },
  {
   "cell_type": "code",
   "execution_count": 13,
   "metadata": {},
   "outputs": [],
   "source": [
    "# The \"remainder='passthrough'\" bit tells the compiler to leave the other df columns unchanged.\n",
    "CT = ColumnTransformer(transformers=[('num_pipeline', num_pipeline, ['age', 'avg_glucose_level', 'bmi']),\n",
    "                                         ('cat_pipeline', cat_pipeline, ['gender', 'ever_married', 'work_type', 'Residence_type', 'smoking_status'])],\n",
    "                           remainder='passthrough')"
   ]
  },
  {
   "cell_type": "markdown",
   "metadata": {},
   "source": [
    "### Logistic Regression"
   ]
  },
  {
   "cell_type": "code",
   "execution_count": null,
   "metadata": {},
   "outputs": [],
   "source": [
    "# Create a logistic regression model using created pipeline\n",
    "logreg_pipe = Pipeline(steps=[('ct', CT),\n",
    "                              ('knn_imp',knn_imp_pipeline),\n",
    "                            ('logreg', LogisticRegression())])\n",
    "logreg_pipe.fit(X_train, y_train)"
   ]
  },
  {
   "cell_type": "code",
   "execution_count": null,
   "metadata": {},
   "outputs": [],
   "source": []
  },
  {
   "cell_type": "code",
   "execution_count": null,
   "metadata": {
    "scrolled": false
   },
   "outputs": [],
   "source": [
    "# Plot a confusion matrix for our Log reg model\n",
    "plot_confusion_matrix(logreg_pipe, X_train, y_train);"
   ]
  },
  {
   "cell_type": "code",
   "execution_count": null,
   "metadata": {},
   "outputs": [],
   "source": [
    "# Evaluate model with CV\n",
    "logreg_results = ModelWithCV(model=logreg_pipe,\n",
    "                         model_name='logreg_pipe',\n",
    "                         X=X_train,\n",
    "                         y=y_train)\n",
    "\n",
    "logreg_results.print_cv_summary()"
   ]
  },
  {
   "cell_type": "markdown",
   "metadata": {},
   "source": [
    "### Decision Trees"
   ]
  },
  {
   "cell_type": "code",
   "execution_count": null,
   "metadata": {},
   "outputs": [],
   "source": [
    "# Create a decision tree model using created pipeline\n",
    "dtree_pipe = Pipeline(steps=[('ct', CT),\n",
    "                             ('knn_imp',knn_imp_pipeline),\n",
    "                            ('decisiontree', DecisionTreeClassifier())])\n",
    "dtree_pipe.fit(X_train, y_train)"
   ]
  },
  {
   "cell_type": "code",
   "execution_count": null,
   "metadata": {
    "scrolled": false
   },
   "outputs": [],
   "source": [
    "# Plot confusion matrix\n",
    "plot_confusion_matrix(dtree_pipe, X_train, y_train);"
   ]
  },
  {
   "cell_type": "code",
   "execution_count": null,
   "metadata": {
    "scrolled": true
   },
   "outputs": [],
   "source": [
    "# Evaluate model with CV\n",
    "dtree_results = ModelWithCV(model=dtree_pipe,\n",
    "                         model_name='dtree_pipe',\n",
    "                         X=X_train,\n",
    "                         y=y_train)\n",
    "\n",
    "dtree_results.print_cv_summary()"
   ]
  },
  {
   "cell_type": "markdown",
   "metadata": {},
   "source": [
    "**above is incorrect**"
   ]
  },
  {
   "cell_type": "markdown",
   "metadata": {},
   "source": [
    "### KNN"
   ]
  },
  {
   "cell_type": "code",
   "execution_count": null,
   "metadata": {},
   "outputs": [],
   "source": [
    "# Create a knn model using created pipeline\n",
    "knn_pipe = Pipeline(steps=[('ct', CT),\n",
    "                           ('knn_imp',knn_imp_pipeline),\n",
    "                            ('knn', KNeighborsClassifier())])\n",
    "knn_pipe.fit(X_train, y_train)"
   ]
  },
  {
   "cell_type": "code",
   "execution_count": null,
   "metadata": {
    "scrolled": true
   },
   "outputs": [],
   "source": [
    "# Plot confusion matrix\n",
    "plot_confusion_matrix(knn_pipe, X_test, y_test);"
   ]
  },
  {
   "cell_type": "code",
   "execution_count": null,
   "metadata": {},
   "outputs": [],
   "source": [
    "# Evaluate model with CV\n",
    "knn_results = ModelWithCV(model=knn_pipe,\n",
    "                         model_name='knn_pipe',\n",
    "                         X=X_train,\n",
    "                         y=y_train)\n",
    "\n",
    "knn_results.print_cv_summary()"
   ]
  },
  {
   "cell_type": "markdown",
   "metadata": {},
   "source": [
    "### Random Forest"
   ]
  },
  {
   "cell_type": "code",
   "execution_count": null,
   "metadata": {},
   "outputs": [],
   "source": [
    "# Create a knn model using created pipeline\n",
    "rfc_pipe = Pipeline(steps=[('ct', CT),\n",
    "                           ('knn_imp',knn_imp_pipeline),\n",
    "                            ('rfc', RandomForestClassifier())])\n",
    "rfc_pipe.fit(X_train, y_train)"
   ]
  },
  {
   "cell_type": "code",
   "execution_count": null,
   "metadata": {},
   "outputs": [],
   "source": [
    "# Plot confusion matrix\n",
    "plot_confusion_matrix(rfc_pipe, X_test, y_test);"
   ]
  },
  {
   "cell_type": "code",
   "execution_count": null,
   "metadata": {},
   "outputs": [],
   "source": [
    "# Evaluate model with CV\n",
    "rfc_results = ModelWithCV(model=rfc_pipe,\n",
    "                         model_name='rfc_pipe',\n",
    "                         X=X_train,\n",
    "                         y=y_train)\n",
    "\n",
    "rfc_results.print_cv_summary()"
   ]
  },
  {
   "cell_type": "markdown",
   "metadata": {},
   "source": [
    "It looks as though the models with the highest accuracy are logistic regression(0.95197 accuracy) and Random Forests(0.95197 accuracy). However, the model with the highest recall is Decision Trees( 0.16111 recall)."
   ]
  },
  {
   "cell_type": "markdown",
   "metadata": {},
   "source": [
    "### Gradient Boost"
   ]
  },
  {
   "cell_type": "code",
   "execution_count": null,
   "metadata": {},
   "outputs": [],
   "source": [
    "gb_pipe = Pipeline(steps=[('ct', CT),\n",
    "                          ('knn_imp',knn_imp_pipeline),\n",
    "                            ('gb', GradientBoostingClassifier())])\n",
    "gb_pipe.fit(X_train, y_train)"
   ]
  },
  {
   "cell_type": "code",
   "execution_count": null,
   "metadata": {},
   "outputs": [],
   "source": [
    "# Evaluate model with CV\n",
    "gb_results = ModelWithCV(model=gb_pipe,\n",
    "                         model_name='gb_pipe',\n",
    "                         X=X_train,\n",
    "                         y=y_train)\n",
    "\n",
    "gb_results.print_cv_summary()"
   ]
  },
  {
   "cell_type": "markdown",
   "metadata": {},
   "source": [
    "## Grid Search"
   ]
  },
  {
   "cell_type": "code",
   "execution_count": null,
   "metadata": {},
   "outputs": [],
   "source": [
    "# Random Forest Grid Search \n",
    "rf_grid = {'rfc__max_depth': [3,5,7],\n",
    " 'rfc__max_features': ['auto', 'sqrt',None],\n",
    " 'rfc__min_samples_leaf': [1, 2, 3],\n",
    " 'rfc__min_samples_split': [2, 5, 10],\n",
    " 'rfc__n_estimators': [10,100,200,500]}\n"
   ]
  },
  {
   "cell_type": "code",
   "execution_count": null,
   "metadata": {},
   "outputs": [],
   "source": [
    "rf_gs = GridSearchCV(estimator=rfc_pipe, param_grid=rf_grid, cv=5, scoring='recall')"
   ]
  },
  {
   "cell_type": "code",
   "execution_count": null,
   "metadata": {},
   "outputs": [],
   "source": [
    "rf_gs.fit(X_train,y_train)"
   ]
  },
  {
   "cell_type": "code",
   "execution_count": null,
   "metadata": {},
   "outputs": [],
   "source": [
    "rf_gs.best_params_"
   ]
  },
  {
   "cell_type": "code",
   "execution_count": null,
   "metadata": {},
   "outputs": [],
   "source": [
    "rf_gs.best_score_"
   ]
  },
  {
   "cell_type": "code",
   "execution_count": null,
   "metadata": {},
   "outputs": [],
   "source": [
    "rf_grid1 = {'rfc__max_depth': [7,9,11],\n",
    " 'rfc__max_features': ['sqrt'],\n",
    " 'rfc__min_samples_leaf': [1],\n",
    " 'rfc__min_samples_split': [2],\n",
    " 'rfc__n_estimators': [5,7,10]}\n",
    "\n",
    "rf_gs1 = GridSearchCV(estimator=rfc_pipe, param_grid=rf_grid1, cv=5, scoring='recall',verbose=3)"
   ]
  },
  {
   "cell_type": "code",
   "execution_count": null,
   "metadata": {},
   "outputs": [],
   "source": [
    "rf_gs1.fit(X_train,y_train)"
   ]
  },
  {
   "cell_type": "code",
   "execution_count": null,
   "metadata": {},
   "outputs": [],
   "source": [
    "rf_gs1.best_params_"
   ]
  },
  {
   "cell_type": "code",
   "execution_count": null,
   "metadata": {},
   "outputs": [],
   "source": [
    "rf_gs1.best_score_"
   ]
  },
  {
   "cell_type": "code",
   "execution_count": null,
   "metadata": {},
   "outputs": [],
   "source": [
    "rf_grid2 = {'rfc__max_depth': [11,13,15,17],\n",
    " 'rfc__max_features': ['sqrt'],\n",
    " 'rfc__min_samples_leaf': [1,2,3],\n",
    " 'rfc__min_samples_split': [2,5,10],\n",
    " 'rfc__n_estimators': [50,100,150,200],\n",
    " 'rfc__class_weight': ['balanced','balanced_subsample']}\n",
    "\n",
    "rf_gs2 = GridSearchCV(estimator=rfc_pipe, param_grid=rf_grid2, cv=5, scoring='recall',verbose=3)"
   ]
  },
  {
   "cell_type": "code",
   "execution_count": null,
   "metadata": {},
   "outputs": [],
   "source": [
    "rf_gs2.fit(X_train,y_train)"
   ]
  },
  {
   "cell_type": "code",
   "execution_count": null,
   "metadata": {},
   "outputs": [],
   "source": [
    "rf_gs2.best_params_"
   ]
  },
  {
   "cell_type": "code",
   "execution_count": null,
   "metadata": {},
   "outputs": [],
   "source": [
    "rf_gs2.best_score_"
   ]
  },
  {
   "cell_type": "markdown",
   "metadata": {},
   "source": [
    "### SMOTE"
   ]
  },
  {
   "cell_type": "code",
   "execution_count": null,
   "metadata": {},
   "outputs": [],
   "source": [
    "imb_pipe = ImPipeline(steps=[('ct', CT),\n",
    "                             ('knn_imp', KNNImputer(add_indicator=True)),\n",
    "                             ('sm', SMOTE()),\n",
    "                            ('rfc', RandomForestClassifier())])"
   ]
  },
  {
   "cell_type": "code",
   "execution_count": null,
   "metadata": {},
   "outputs": [],
   "source": [
    "imb_pipe.fit(X_train,y_train)"
   ]
  },
  {
   "cell_type": "code",
   "execution_count": null,
   "metadata": {},
   "outputs": [],
   "source": [
    "imb_results = ModelWithCV(model=imb_pipe,\n",
    "                         model_name='imb_pipe',\n",
    "                         X=X_train,\n",
    "                         y=y_train)\n",
    "\n",
    "imb_results.print_cv_summary()"
   ]
  },
  {
   "cell_type": "code",
   "execution_count": null,
   "metadata": {},
   "outputs": [],
   "source": [
    "imb_grid = {'rfc__max_depth': [11,13,15,17],\n",
    " 'rfc__max_features': ['sqrt'],\n",
    " 'rfc__min_samples_leaf': [1,2,3],\n",
    " 'rfc__min_samples_split': [2,5,10],\n",
    " 'rfc__n_estimators': [50,100,150,200],\n",
    " 'rfc__class_weight': ['balanced','balanced_subsample'],\n",
    " 'sm__k_neighbors': [3, 5, 9]}\n",
    "\n",
    "imb_gs = GridSearchCV(estimator=imb_pipe, param_grid=imb_grid, cv=5, scoring='recall',verbose=3,n_jobs=-2)"
   ]
  },
  {
   "cell_type": "code",
   "execution_count": null,
   "metadata": {},
   "outputs": [],
   "source": [
    "imb_gs.fit(X_train,y_train)"
   ]
  },
  {
   "cell_type": "code",
   "execution_count": null,
   "metadata": {},
   "outputs": [],
   "source": [
    "imb_gs.best_params_"
   ]
  },
  {
   "cell_type": "code",
   "execution_count": null,
   "metadata": {},
   "outputs": [],
   "source": [
    "imb_gs.best_score_"
   ]
  },
  {
   "cell_type": "markdown",
   "metadata": {},
   "source": [
    "#### XGBoost"
   ]
  },
  {
   "cell_type": "markdown",
   "metadata": {},
   "source": [
    "##### Round 1"
   ]
  },
  {
   "cell_type": "code",
   "execution_count": 14,
   "metadata": {},
   "outputs": [],
   "source": [
    "xgb_pipe = ImPipeline(steps=[('ct', CT),\n",
    "                             ('knn_imp', KNNImputer(add_indicator=True)),\n",
    "                             ('sm', SMOTE()),\n",
    "                            ('xgb', xgb.XGBClassifier(objective='binary:logistic', missing=None))])"
   ]
  },
  {
   "cell_type": "code",
   "execution_count": null,
   "metadata": {},
   "outputs": [],
   "source": [
    "xgb_param_grid_1 = {'sm__k_neighbors': [3, 5, 9],\n",
    "                  'sm__sampling_strategy': ['auto', .7, .8, .9],\n",
    "                  'xgb__max_depth' : [3,4,5],\n",
    "                  'xgb__learning_rate': [.1,.01,.05],\n",
    "                  'xgb__gamma' : [0,.25,1], #encourages pruning\n",
    "                  'xgb__reg_lambda': [0,1,10], #regularization param\n",
    "                  'xgb__scale_pos_weight': [1,3,5]} #penalty on choosing incorrect class"
   ]
  },
  {
   "cell_type": "code",
   "execution_count": null,
   "metadata": {},
   "outputs": [],
   "source": [
    "xgb_gs_1 = GridSearchCV(estimator=xgb_pipe, \n",
    "                      param_grid=xgb_param_grid_1, \n",
    "                      cv=5,\n",
    "                      scoring='recall',\n",
    "                      verbose=3,\n",
    "                      n_jobs=-2)"
   ]
  },
  {
   "cell_type": "code",
   "execution_count": null,
   "metadata": {},
   "outputs": [],
   "source": [
    "xgb_gs_1.fit(X_train,y_train)"
   ]
  },
  {
   "cell_type": "code",
   "execution_count": null,
   "metadata": {},
   "outputs": [],
   "source": [
    "xgb_gs_1.best_params_"
   ]
  },
  {
   "cell_type": "code",
   "execution_count": null,
   "metadata": {},
   "outputs": [],
   "source": [
    "xgb_gs_1.best_score_"
   ]
  },
  {
   "cell_type": "code",
   "execution_count": null,
   "metadata": {},
   "outputs": [],
   "source": [
    "best_xgb_1 = xgb_gs_1.best_estimator_"
   ]
  },
  {
   "cell_type": "code",
   "execution_count": null,
   "metadata": {},
   "outputs": [],
   "source": [
    "# Plot confusion matrix\n",
    "plot_confusion_matrix(best_xgb_1, X_train, y_train, values_format='d', display_labels=['Stroke','No Stroke']);"
   ]
  },
  {
   "cell_type": "code",
   "execution_count": null,
   "metadata": {},
   "outputs": [],
   "source": [
    "# Evaluate model with CV\n",
    "best_xgb_results_1 = ModelWithCV(model=best_xgb,\n",
    "                         model_name='best_xgb',\n",
    "                         X=X_train,\n",
    "                         y=y_train)"
   ]
  },
  {
   "cell_type": "code",
   "execution_count": null,
   "metadata": {},
   "outputs": [],
   "source": [
    "best_xgb_results.print_cv_summary()"
   ]
  },
  {
   "cell_type": "markdown",
   "metadata": {},
   "source": [
    "##### Round 2"
   ]
  },
  {
   "cell_type": "code",
   "execution_count": null,
   "metadata": {},
   "outputs": [],
   "source": [
    "xgb_param_grid_2 = {'sm__k_neighbors': [9, 11, 13],\n",
    "                    'sm__sampling_strategy': [.8],\n",
    "                    'xgb__max_depth' : [1, 2, 3],\n",
    "                    'xgb__learning_rate': [.01],\n",
    "                    'xgb__gamma' : [.25], #encourages pruning\n",
    "                    'xgb__reg_lambda': [10, 15, 20], #regularization param\n",
    "                    'xgb__scale_pos_weight': [5, 7, 9]} #penalty on choosing incorrect class"
   ]
  },
  {
   "cell_type": "code",
   "execution_count": null,
   "metadata": {},
   "outputs": [],
   "source": [
    "xgb_gs_2 = GridSearchCV(estimator=xgb_pipe, \n",
    "                      param_grid=xgb_param_grid_2, \n",
    "                      cv=5,\n",
    "                      scoring='recall',\n",
    "                      verbose=3,\n",
    "                      n_jobs=-2)"
   ]
  },
  {
   "cell_type": "code",
   "execution_count": null,
   "metadata": {},
   "outputs": [],
   "source": [
    "xgb_gs_2.fit(X_train,y_train)"
   ]
  },
  {
   "cell_type": "code",
   "execution_count": null,
   "metadata": {},
   "outputs": [],
   "source": [
    "xgb_gs_2.best_params_"
   ]
  },
  {
   "cell_type": "code",
   "execution_count": null,
   "metadata": {},
   "outputs": [],
   "source": [
    "xgb_gs_2.best_score_"
   ]
  },
  {
   "cell_type": "code",
   "execution_count": null,
   "metadata": {},
   "outputs": [],
   "source": [
    "best_xgb_2 = xgb_gs_2.best_estimator_"
   ]
  },
  {
   "cell_type": "code",
   "execution_count": null,
   "metadata": {},
   "outputs": [],
   "source": [
    "# Plot confusion matrix\n",
    "plot_confusion_matrix(best_xgb_2, X_train, y_train, values_format='d', display_labels=['Stroke','No Stroke']);"
   ]
  },
  {
   "cell_type": "code",
   "execution_count": null,
   "metadata": {},
   "outputs": [],
   "source": [
    "# Evaluate model with CV\n",
    "best_xgb_results_2 = ModelWithCV(model=best_xgb_2,\n",
    "                         model_name='best_xgb_2',\n",
    "                         X=X_train,\n",
    "                         y=y_train)"
   ]
  },
  {
   "cell_type": "code",
   "execution_count": null,
   "metadata": {
    "scrolled": true
   },
   "outputs": [],
   "source": [
    "best_xgb_results_2.print_cv_summary()"
   ]
  },
  {
   "cell_type": "markdown",
   "metadata": {},
   "source": [
    "##### Round 3"
   ]
  },
  {
   "cell_type": "code",
   "execution_count": 15,
   "metadata": {},
   "outputs": [],
   "source": [
    "xgb_param_grid_3 = {'sm__k_neighbors': [9],\n",
    "                    'sm__sampling_strategy': [.8],\n",
    "                    'xgb__max_depth' : [1],\n",
    "                    'xgb__learning_rate': [.01],\n",
    "                    'xgb__gamma' : [.25], #encourages pruning\n",
    "                    'xgb__reg_lambda': [10], #regularization param\n",
    "                    'xgb__scale_pos_weight': [7],\n",
    "                    'xgb__n_estimators': [100, 200, 300],\n",
    "                    'xgb__colsample_bytree': [.3, .5, .7]} #penalty on choosing incorrect class"
   ]
  },
  {
   "cell_type": "code",
   "execution_count": 16,
   "metadata": {},
   "outputs": [],
   "source": [
    "xgb_gs_3 = GridSearchCV(estimator=xgb_pipe, \n",
    "                      param_grid=xgb_param_grid_3, \n",
    "                      cv=5,\n",
    "                      scoring='recall',\n",
    "                      verbose=3,\n",
    "                      n_jobs=-2)"
   ]
  },
  {
   "cell_type": "code",
   "execution_count": 17,
   "metadata": {},
   "outputs": [
    {
     "name": "stdout",
     "output_type": "stream",
     "text": [
      "Fitting 5 folds for each of 9 candidates, totalling 45 fits\n"
     ]
    },
    {
     "name": "stderr",
     "output_type": "stream",
     "text": [
      "[Parallel(n_jobs=-2)]: Using backend LokyBackend with 11 concurrent workers.\n",
      "[Parallel(n_jobs=-2)]: Done  10 tasks      | elapsed:    2.8s\n",
      "[Parallel(n_jobs=-2)]: Done  40 out of  45 | elapsed:    4.6s remaining:    0.6s\n",
      "[Parallel(n_jobs=-2)]: Done  45 out of  45 | elapsed:    4.9s finished\n"
     ]
    },
    {
     "data": {
      "text/plain": [
       "GridSearchCV(cv=5,\n",
       "             estimator=Pipeline(steps=[('ct',\n",
       "                                        ColumnTransformer(remainder='passthrough',\n",
       "                                                          transformers=[('num_pipeline',\n",
       "                                                                         Pipeline(steps=[('ss',\n",
       "                                                                                          StandardScaler())]),\n",
       "                                                                         ['age',\n",
       "                                                                          'avg_glucose_level',\n",
       "                                                                          'bmi']),\n",
       "                                                                        ('cat_pipeline',\n",
       "                                                                         Pipeline(steps=[('ohe',\n",
       "                                                                                          OneHotEncoder(handle_unknown='ignore',\n",
       "                                                                                                        sparse=False))]),\n",
       "                                                                         ['gender',\n",
       "                                                                          'ever_married',\n",
       "                                                                          'work_type',\n",
       "                                                                          'Residence_type',\n",
       "                                                                          'sm...\n",
       "                                                      tree_method=None,\n",
       "                                                      validate_parameters=None,\n",
       "                                                      verbosity=None))]),\n",
       "             n_jobs=-2,\n",
       "             param_grid={'sm__k_neighbors': [9], 'sm__sampling_strategy': [0.8],\n",
       "                         'xgb__colsample_bytree': [0.3, 0.5, 0.7],\n",
       "                         'xgb__gamma': [0.25], 'xgb__learning_rate': [0.01],\n",
       "                         'xgb__max_depth': [1],\n",
       "                         'xgb__n_estimators': [100, 200, 300],\n",
       "                         'xgb__reg_lambda': [10],\n",
       "                         'xgb__scale_pos_weight': [7]},\n",
       "             scoring='recall', verbose=3)"
      ]
     },
     "execution_count": 17,
     "metadata": {},
     "output_type": "execute_result"
    }
   ],
   "source": [
    "xgb_gs_3.fit(X_train,y_train)"
   ]
  },
  {
   "cell_type": "code",
   "execution_count": 18,
   "metadata": {},
   "outputs": [
    {
     "data": {
      "text/plain": [
       "{'sm__k_neighbors': 9,\n",
       " 'sm__sampling_strategy': 0.8,\n",
       " 'xgb__colsample_bytree': 0.3,\n",
       " 'xgb__gamma': 0.25,\n",
       " 'xgb__learning_rate': 0.01,\n",
       " 'xgb__max_depth': 1,\n",
       " 'xgb__n_estimators': 100,\n",
       " 'xgb__reg_lambda': 10,\n",
       " 'xgb__scale_pos_weight': 7}"
      ]
     },
     "execution_count": 18,
     "metadata": {},
     "output_type": "execute_result"
    }
   ],
   "source": [
    "xgb_gs_3.best_params_"
   ]
  },
  {
   "cell_type": "code",
   "execution_count": 19,
   "metadata": {},
   "outputs": [
    {
     "data": {
      "text/plain": [
       "0.9846153846153847"
      ]
     },
     "execution_count": 19,
     "metadata": {},
     "output_type": "execute_result"
    }
   ],
   "source": [
    "xgb_gs_3.best_score_"
   ]
  },
  {
   "cell_type": "code",
   "execution_count": 20,
   "metadata": {},
   "outputs": [],
   "source": [
    "best_xgb_3 = xgb_gs_3.best_estimator_"
   ]
  },
  {
   "cell_type": "code",
   "execution_count": 21,
   "metadata": {},
   "outputs": [
    {
     "data": {
      "image/png": "[encoded data removed]",
      "text/plain": [
       "<Figure size 432x288 with 2 Axes>"
      ]
     },
     "metadata": {
      "needs_background": "light"
     },
     "output_type": "display_data"
    }
   ],
   "source": [
    "# Plot confusion matrix\n",
    "plot_confusion_matrix(best_xgb_3, X_train, y_train, values_format='d', display_labels=['No Stroke','Stroke']);"
   ]
  },
  {
   "cell_type": "code",
   "execution_count": 22,
   "metadata": {},
   "outputs": [],
   "source": [
    "# Evaluate model with CV\n",
    "best_xgb_results_3 = ModelWithCV(model=best_xgb_3,\n",
    "                         model_name='best_xgb_3',\n",
    "                         X=X_train,\n",
    "                         y=y_train)"
   ]
  },
  {
   "cell_type": "code",
   "execution_count": 23,
   "metadata": {},
   "outputs": [
    {
     "name": "stdout",
     "output_type": "stream",
     "text": [
      "CV Results for `best_xgb_3` model:\n",
      "             0.34755 accuracy\n",
      "             0.98462 recall\n",
      "             0.07214 precision\n",
      "        \n"
     ]
    }
   ],
   "source": [
    "best_xgb_results_3.print_cv_summary()"
   ]
  },
  {
   "cell_type": "markdown",
   "metadata": {},
   "source": [
    "#### Feature Importance"
   ]
  },
  {
   "cell_type": "code",
   "execution_count": 24,
   "metadata": {},
   "outputs": [],
   "source": [
    "from xgboost import plot_importance"
   ]
  },
  {
   "cell_type": "code",
   "execution_count": 25,
   "metadata": {
    "scrolled": true
   },
   "outputs": [
    {
     "data": {
      "text/plain": [
       "<AxesSubplot:title={'center':'Feature importance'}, xlabel='F score', ylabel='Features'>"
      ]
     },
     "execution_count": 25,
     "metadata": {},
     "output_type": "execute_result"
    },
    {
     "data": {
      "image/png": "[encoded data removed]",
      "text/plain": [
       "<Figure size 432x288 with 1 Axes>"
      ]
     },
     "metadata": {
      "needs_background": "light"
     },
     "output_type": "display_data"
    }
   ],
   "source": [
    "plot_importance(best_xgb_3.steps[3][1], max_num_features=10, importance_type='gain') # weight - # appearances in tree"
   ]
  },
  {
   "cell_type": "code",
   "execution_count": 28,
   "metadata": {
    "scrolled": false
   },
   "outputs": [
    {
     "data": {
      "text/plain": [
       "array([[-1.70244846, -0.52196298, -1.42319543, ...,  0.        ,\n",
       "         0.        ,  0.        ],\n",
       "       [ 1.61121856, -0.88781882,  0.92511667, ...,  0.        ,\n",
       "         1.        ,  0.        ],\n",
       "       [-1.48153732, -0.22289034, -1.57514503, ...,  0.        ,\n",
       "         0.        ,  0.        ],\n",
       "       ...,\n",
       "       [ 0.1973873 ,  2.48149466,         nan, ...,  1.        ,\n",
       "         0.        ,  0.        ],\n",
       "       [ 0.1973873 ,  0.20416484,  0.06867344, ...,  0.        ,\n",
       "         0.        ,  0.        ],\n",
       "       [ 0.28575175, -0.28453638,  1.82300071, ...,  1.        ,\n",
       "         0.        ,  0.        ]])"
      ]
     },
     "execution_count": 28,
     "metadata": {},
     "output_type": "execute_result"
    }
   ],
   "source": [
    "trial = CT.fit_transform(X_train)\n",
    "trial"
   ]
  },
  {
   "cell_type": "code",
   "execution_count": 29,
   "metadata": {},
   "outputs": [
    {
     "data": {
      "text/plain": [
       "array([[-1.70244846, -0.52196298, -1.42319543, ...,  0.        ,\n",
       "         0.        ,  0.        ],\n",
       "       [ 1.61121856, -0.88781882,  0.92511667, ...,  1.        ,\n",
       "         0.        ,  0.        ],\n",
       "       [-1.48153732, -0.22289034, -1.57514503, ...,  0.        ,\n",
       "         0.        ,  0.        ],\n",
       "       ...,\n",
       "       [ 0.1973873 ,  2.48149466,  0.76211619, ...,  0.        ,\n",
       "         0.        ,  1.        ],\n",
       "       [ 0.1973873 ,  0.20416484,  0.06867344, ...,  0.        ,\n",
       "         0.        ,  0.        ],\n",
       "       [ 0.28575175, -0.28453638,  1.82300071, ...,  0.        ,\n",
       "         0.        ,  0.        ]])"
      ]
     },
     "execution_count": 29,
     "metadata": {},
     "output_type": "execute_result"
    }
   ],
   "source": [
    "knn_imp_pipeline.fit_transform(trial)"
   ]
  },
  {
   "cell_type": "code",
   "execution_count": 31,
   "metadata": {},
   "outputs": [],
   "source": [
    "feature_names = ['age', 'avg_glucose_level', 'bmi']"
   ]
  },
  {
   "cell_type": "code",
   "execution_count": 32,
   "metadata": {},
   "outputs": [],
   "source": [
    "ohe_features = list(CT.named_transformers_['cat_pipeline']['ohe'].get_feature_names())"
   ]
  },
  {
   "cell_type": "code",
   "execution_count": 33,
   "metadata": {},
   "outputs": [],
   "source": [
    "full_features = feature_names + ohe_features"
   ]
  },
  {
   "cell_type": "code",
   "execution_count": 34,
   "metadata": {},
   "outputs": [
    {
     "data": {
      "text/plain": [
       "['age',\n",
       " 'avg_glucose_level',\n",
       " 'bmi',\n",
       " 'x0_Female',\n",
       " 'x0_Male',\n",
       " 'x1_No',\n",
       " 'x1_Yes',\n",
       " 'x2_Govt_job',\n",
       " 'x2_Never_worked',\n",
       " 'x2_Private',\n",
       " 'x2_Self-employed',\n",
       " 'x3_Rural',\n",
       " 'x3_Urban',\n",
       " 'x4_Unknown',\n",
       " 'x4_formerly smoked',\n",
       " 'x4_never smoked',\n",
       " 'x4_smokes',\n",
       " 'hypertension',\n",
       " 'heart_disease',\n",
       " 'bmi_flag']"
      ]
     },
     "execution_count": 34,
     "metadata": {},
     "output_type": "execute_result"
    }
   ],
   "source": [
    "full_features.extend(['hypertension', 'heart_disease', 'bmi_flag'])\n",
    "full_features"
   ]
  },
  {
   "cell_type": "code",
   "execution_count": 35,
   "metadata": {},
   "outputs": [],
   "source": [
    "full_feature_scores = list(best_xgb_3.steps[3][1].feature_importances_)"
   ]
  },
  {
   "cell_type": "code",
   "execution_count": 36,
   "metadata": {
    "scrolled": true
   },
   "outputs": [
    {
     "data": {
      "text/plain": [
       "20"
      ]
     },
     "execution_count": 36,
     "metadata": {},
     "output_type": "execute_result"
    }
   ],
   "source": [
    "len(full_features)"
   ]
  },
  {
   "cell_type": "code",
   "execution_count": 37,
   "metadata": {},
   "outputs": [
    {
     "data": {
      "text/plain": [
       "20"
      ]
     },
     "execution_count": 37,
     "metadata": {},
     "output_type": "execute_result"
    }
   ],
   "source": [
    "len(best_xgb_3.steps[3][1].feature_importances_)"
   ]
  },
  {
   "cell_type": "code",
   "execution_count": 38,
   "metadata": {
    "scrolled": true
   },
   "outputs": [
    {
     "data": {
      "text/plain": [
       "array([0.34218597, 0.0413224 , 0.06966574, 0.        , 0.        ,\n",
       "       0.13144934, 0.15157759, 0.        , 0.09163368, 0.        ,\n",
       "       0.01739267, 0.        , 0.        , 0.        , 0.        ,\n",
       "       0.        , 0.        , 0.05255879, 0.04957629, 0.0526375 ],\n",
       "      dtype=float32)"
      ]
     },
     "execution_count": 38,
     "metadata": {},
     "output_type": "execute_result"
    }
   ],
   "source": [
    "best_xgb_3.steps[3][1].feature_importances_"
   ]
  },
  {
   "cell_type": "code",
   "execution_count": 39,
   "metadata": {},
   "outputs": [],
   "source": [
    "tuples_list = list(zip(full_features, full_feature_scores))"
   ]
  },
  {
   "cell_type": "code",
   "execution_count": 40,
   "metadata": {
    "scrolled": true
   },
   "outputs": [],
   "source": [
    "important_features = pd.DataFrame(tuples_list, columns = ['Features', 'Importance'])\n",
    "important_features_sorted = important_features.sort_values(by='Importance', ascending=False).head(10)"
   ]
  },
  {
   "cell_type": "code",
   "execution_count": 41,
   "metadata": {},
   "outputs": [
    {
     "data": {
      "text/html": [
       "<div>\n",
       "<style scoped>\n",
       "    .dataframe tbody tr th:only-of-type {\n",
       "        vertical-align: middle;\n",
       "    }\n",
       "\n",
       "    .dataframe tbody tr th {\n",
       "        vertical-align: top;\n",
       "    }\n",
       "\n",
       "    .dataframe thead th {\n",
       "        text-align: right;\n",
       "    }\n",
       "</style>\n",
       "<table border=\"1\" class=\"dataframe\">\n",
       "  <thead>\n",
       "    <tr style=\"text-align: right;\">\n",
       "      <th></th>\n",
       "      <th>Features</th>\n",
       "      <th>Importance</th>\n",
       "    </tr>\n",
       "  </thead>\n",
       "  <tbody>\n",
       "    <tr>\n",
       "      <th>0</th>\n",
       "      <td>age</td>\n",
       "      <td>0.342186</td>\n",
       "    </tr>\n",
       "    <tr>\n",
       "      <th>6</th>\n",
       "      <td>x1_Yes</td>\n",
       "      <td>0.151578</td>\n",
       "    </tr>\n",
       "    <tr>\n",
       "      <th>5</th>\n",
       "      <td>x1_No</td>\n",
       "      <td>0.131449</td>\n",
       "    </tr>\n",
       "    <tr>\n",
       "      <th>8</th>\n",
       "      <td>x2_Never_worked</td>\n",
       "      <td>0.091634</td>\n",
       "    </tr>\n",
       "    <tr>\n",
       "      <th>2</th>\n",
       "      <td>bmi</td>\n",
       "      <td>0.069666</td>\n",
       "    </tr>\n",
       "    <tr>\n",
       "      <th>19</th>\n",
       "      <td>bmi_flag</td>\n",
       "      <td>0.052637</td>\n",
       "    </tr>\n",
       "    <tr>\n",
       "      <th>17</th>\n",
       "      <td>hypertension</td>\n",
       "      <td>0.052559</td>\n",
       "    </tr>\n",
       "    <tr>\n",
       "      <th>18</th>\n",
       "      <td>heart_disease</td>\n",
       "      <td>0.049576</td>\n",
       "    </tr>\n",
       "    <tr>\n",
       "      <th>1</th>\n",
       "      <td>avg_glucose_level</td>\n",
       "      <td>0.041322</td>\n",
       "    </tr>\n",
       "    <tr>\n",
       "      <th>10</th>\n",
       "      <td>x2_Self-employed</td>\n",
       "      <td>0.017393</td>\n",
       "    </tr>\n",
       "  </tbody>\n",
       "</table>\n",
       "</div>"
      ],
      "text/plain": [
       "             Features  Importance\n",
       "0                 age    0.342186\n",
       "6              x1_Yes    0.151578\n",
       "5               x1_No    0.131449\n",
       "8     x2_Never_worked    0.091634\n",
       "2                 bmi    0.069666\n",
       "19           bmi_flag    0.052637\n",
       "17       hypertension    0.052559\n",
       "18      heart_disease    0.049576\n",
       "1   avg_glucose_level    0.041322\n",
       "10   x2_Self-employed    0.017393"
      ]
     },
     "execution_count": 41,
     "metadata": {},
     "output_type": "execute_result"
    }
   ],
   "source": [
    "important_features_sorted"
   ]
  },
  {
   "cell_type": "markdown",
   "metadata": {},
   "source": [
    "#### Run Final Model on Test Data"
   ]
  },
  {
   "cell_type": "code",
   "execution_count": 42,
   "metadata": {},
   "outputs": [],
   "source": [
    "final_model = best_xgb_3"
   ]
  },
  {
   "cell_type": "code",
   "execution_count": 43,
   "metadata": {},
   "outputs": [],
   "source": [
    "y_pred_test = final_model.predict(X_test)"
   ]
  },
  {
   "cell_type": "code",
   "execution_count": 44,
   "metadata": {
    "scrolled": true
   },
   "outputs": [
    {
     "data": {
      "text/plain": [
       "1.0"
      ]
     },
     "execution_count": 44,
     "metadata": {},
     "output_type": "execute_result"
    }
   ],
   "source": [
    "rere(y_test, y_pred_test)"
   ]
  },
  {
   "cell_type": "code",
   "execution_count": 45,
   "metadata": {
    "scrolled": false
   },
   "outputs": [
    {
     "data": {
      "text/plain": [
       "<sklearn.metrics._plot.confusion_matrix.ConfusionMatrixDisplay at 0x7fb5dca5eac0>"
      ]
     },
     "execution_count": 45,
     "metadata": {},
     "output_type": "execute_result"
    },
    {
     "data": {
      "image/png": "[encoded data removed]",
      "text/plain": [
       "<Figure size 432x288 with 2 Axes>"
      ]
     },
     "metadata": {
      "needs_background": "light"
     },
     "output_type": "display_data"
    }
   ],
   "source": [
    "plot_confusion_matrix(final_model, X_test, y_test)"
   ]
  },
  {
   "cell_type": "markdown",
   "metadata": {},
   "source": [
    "#### Visuals"
   ]
  },
  {
   "cell_type": "code",
   "execution_count": 48,
   "metadata": {},
   "outputs": [],
   "source": [
    "# Rename columns in feature dataframe for visuals\n",
    "important_features_sorted['Features'] = important_features_sorted['Features'].replace(['x1_Yes'], 'married')\n",
    "important_features_sorted['Features'] = important_features_sorted['Features'].replace(['x1_No'], 'not married')\n",
    "important_features_sorted['Features'] = important_features_sorted['Features'].replace(['x2_Never_worked'], 'never worked')\n",
    "important_features_sorted['Features'] = important_features_sorted['Features'].replace(['bmi_flag'], 'bmi flag')\n",
    "important_features_sorted['Features'] = important_features_sorted['Features'].replace(['avg_glucose_level'], 'avg glucose level')\n",
    "important_features_sorted['Features'] = important_features_sorted['Features'].replace(['heart_disease'], 'heart disease')\n",
    "important_features_sorted['Features'] = important_features_sorted['Features'].replace(['x2_Self-employed'], 'self-employed')\n",
    "# delete below when re-running\n",
    "#important_features_sorted['Features'] = important_features_sorted['Features'].replace(['Self-employed'], 'self-employed')"
   ]
  },
  {
   "cell_type": "code",
   "execution_count": 54,
   "metadata": {
    "scrolled": false
   },
   "outputs": [
    {
     "data": {
      "image/png": "[encoded data removed]",
      "text/plain": [
       "<Figure size 1440x720 with 1 Axes>"
      ]
     },
     "metadata": {
      "needs_background": "light"
     },
     "output_type": "display_data"
    }
   ],
   "source": [
    "# Visualize Feature Importance\n",
    "\n",
    "# Create variables for chart\n",
    "important_features_x = important_features_sorted['Features']\n",
    "feature_scores_y = important_features_sorted['Importance']\n",
    "y_ticks = [0, 0.05, 0.10, 0.15, 0.20, 0.25, 0.30, 0.35, 0.40]\n",
    "c = ['#34b456', '#747474', '#747474', '#747474', '#34b456', '#747474', '#747474', '#747474', '#747474', '#747474']\n",
    "\n",
    "# Change font family\n",
    "plt.rcParams.update({'font.family':'Gill Sans'})\n",
    "\n",
    "# Create bar chart\n",
    "fig, ax = plt.subplots(figsize = (20,10))\n",
    "\n",
    "bars = ax.bar(important_features_x, feature_scores_y, color=c)\n",
    "ax.set_xlabel('Features', fontsize=27, labelpad=20) \n",
    "ax.set_ylabel('Importance Scores', fontsize=27, labelpad=25)\n",
    "ax.set_title('Feature Importance to Model Predictions', fontsize=30, pad=15)\n",
    "ax.set_ylim(0, 0.40, 0.05)\n",
    "ax.set_yticks(y_ticks)\n",
    "ax.set_yticklabels(y_ticks, fontsize=20)\n",
    "ax.set_xticks(important_features_x)\n",
    "ax.set_xticklabels(important_features_x, fontsize=20, rotation=45);\n",
    "\n",
    "plt.savefig('./Results/Feature_Importances.jpg', bbox_inches='tight')"
   ]
  },
  {
   "cell_type": "code",
   "execution_count": 90,
   "metadata": {
    "scrolled": false
   },
   "outputs": [
    {
     "data": {
      "image/png": "[encoded data removed]",
      "text/plain": [
       "<Figure size 720x576 with 1 Axes>"
      ]
     },
     "metadata": {
      "needs_background": "light"
     },
     "output_type": "display_data"
    }
   ],
   "source": [
    "# Create a KDE Plot that shows the distribution of stroke vs not strok by Age\n",
    "sns.kdeplot(df['age'][df['stroke'] == 1], label='Stroke', color='#34b456', fill=True)\n",
    "sns.kdeplot(df['age'][df['stroke'] == 0], label='No Stroke', color='#ff1616', fill=True)\n",
    "plt.rcParams.update({'font.family':'Gill Sans'})\n",
    "plt.rcParams[\"figure.figsize\"] = (10,8)\n",
    "plt.xlabel('Age', fontsize=27, labelpad=20)\n",
    "plt.ylabel('Density', fontsize=27, labelpad=25)\n",
    "plt.title('Age Distribution of Stroke vs No Stroke', fontsize=30, pad=15)\n",
    "plt.xticks(fontsize=15)\n",
    "plt.yticks(fontsize=15)\n",
    "plt.legend(loc=\"upper left\", fontsize=20)\n",
    "\n",
    "plt.savefig('./Results/Age_Distribution.jpg', bbox_inches='tight');"
   ]
  },
  {
   "cell_type": "code",
   "execution_count": 93,
   "metadata": {},
   "outputs": [
    {
     "name": "stderr",
     "output_type": "stream",
     "text": [
      "/Users/dermotobrien/opt/anaconda3/envs/learn-env/lib/python3.8/site-packages/seaborn/_decorators.py:36: FutureWarning: Pass the following variable as a keyword arg: x. From version 0.12, the only valid positional argument will be `data`, and passing other arguments without an explicit keyword will result in an error or misinterpretation.\n",
      "  warnings.warn(\n",
      "/Users/dermotobrien/opt/anaconda3/envs/learn-env/lib/python3.8/site-packages/seaborn/_decorators.py:36: FutureWarning: Pass the following variable as a keyword arg: x. From version 0.12, the only valid positional argument will be `data`, and passing other arguments without an explicit keyword will result in an error or misinterpretation.\n",
      "  warnings.warn(\n"
     ]
    },
    {
     "data": {
      "image/png": "[encoded data removed]",
      "text/plain": [
       "<Figure size 720x576 with 1 Axes>"
      ]
     },
     "metadata": {
      "needs_background": "light"
     },
     "output_type": "display_data"
    }
   ],
   "source": [
    "# Create a KDE Plot that shows the distribution of stroke vs not strok by Age\n",
    "sns.scatterplot(df['bmi'][df['stroke'] == 1], label='Stroke', color='#34b456')\n",
    "sns.scatterplot(df['bmi'][df['stroke'] == 0], label='No Stroke', color='#ff1616')\n",
    "\n",
    "plt.rcParams[\"figure.figsize\"] = (10,8)\n",
    "plt.xlabel('BMI', fontsize=27, labelpad=20)\n",
    "plt.ylabel('Density', fontsize=27, labelpad=25)\n",
    "plt.title('BMI Distribution of Stroke vs No Stroke', fontsize=30, pad=15)\n",
    "plt.xticks(fontsize=15)\n",
    "plt.yticks(fontsize=15)\n",
    "plt.legend(loc=\"upper left\", fontsize=20);\n",
    "\n",
    "#plt.savefig('./Results/BMI_Distribution.jpg', bbox_inches='tight');"
   ]
  },
  {
   "cell_type": "code",
   "execution_count": null,
   "metadata": {},
   "outputs": [],
   "source": []
  },
  {
   "cell_type": "code",
   "execution_count": null,
   "metadata": {},
   "outputs": [],
   "source": []
  },
  {
   "cell_type": "code",
   "execution_count": null,
   "metadata": {},
   "outputs": [],
   "source": []
  },
  {
   "cell_type": "code",
   "execution_count": null,
   "metadata": {},
   "outputs": [],
   "source": []
  },
  {
   "cell_type": "markdown",
   "metadata": {},
   "source": [
    "## Evaluation\n",
    "Evaluate how well your work solves the stated business problem.\n",
    "\n",
    "***\n",
    "Questions to consider:\n",
    "* How do you interpret the results?\n",
    "* How well does your model fit your data? How much better is this than your baseline model?\n",
    "* How confident are you that your results would generalize beyond the data you have?\n",
    "* How confident are you that this model would benefit the business if put into use?\n",
    "***"
   ]
  },
  {
   "cell_type": "markdown",
   "metadata": {},
   "source": [
    "## Conclusions\n",
    "Provide your conclusions about the work you've done, including any limitations or next steps.\n",
    "\n",
    "***\n",
    "Questions to consider:\n",
    "* What would you recommend the business do as a result of this work?\n",
    "* What are some reasons why your analysis might not fully solve the business problem?\n",
    "* What else could you do in the future to improve this project?\n",
    "***"
   ]
  }
 ],
 "metadata": {
  "kernelspec": {
   "display_name": "Python 3",
   "language": "python",
   "name": "python3"
  },
  "language_info": {
   "codemirror_mode": {
    "name": "ipython",
    "version": 3
   },
   "file_extension": ".py",
   "mimetype": "text/x-python",
   "name": "python",
   "nbconvert_exporter": "python",
   "pygments_lexer": "ipython3",
   "version": "3.8.5"
  }
 },
 "nbformat": 4,
 "nbformat_minor": 4
}
